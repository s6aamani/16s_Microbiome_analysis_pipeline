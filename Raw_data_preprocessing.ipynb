{
 "cells": [
  {
   "cell_type": "code",
   "execution_count": 4,
   "metadata": {},
   "outputs": [],
   "source": [
    "%matplotlib inline\n",
    "from pathlib import Path\n",
    "\n",
    "import sys\n",
    "\n",
    "import qiime2\n",
    "import pandas as pd\n",
    "import statsmodels.api as sm\n",
    "import numpy as np\n",
    "import statsmodels.formula.api as smf\n",
    "import seaborn as sns\n",
    "import matplotlib as mpl\n",
    "import matplotlib.pyplot as plt\n",
    "# sys.path.append('/Users/alchemist/Aakash/Diet/gut_brain_project/pipeline_trail_version/dokdo/')\n",
    "# import api\n",
    "import statsmodels.api as sm\n",
    "import scipy\n",
    "\n",
    "from tempfile import mkdtemp\n",
    "from qiime2 import Artifact\n",
    "from qiime2.plugins import demux, deblur, quality_filter, \\\n",
    "                          metadata, feature_table, alignment, \\\n",
    "                          phylogeny, diversity, emperor, feature_classifier, \\\n",
    "                          taxa, composition, dada2, vsearch, longitudinal, \\\n",
    "                          gneiss, songbird, aldex2, qurro, diversity_lib\n",
    "from qiime2.plugins.diversity.pipelines import alpha,alpha_phylogenetic,beta,beta_phylogenetic\n",
    "\n",
    "import matplotlib.pyplot as plt\n",
    "\n",
    "\n",
    "pd.options.display.max_seq_items = 2000"
   ]
  },
  {
   "cell_type": "markdown",
   "metadata": {},
   "source": [
    "Before beginning this tutorial, create a new directory and change to that directory.  \n",
    "**make sure to change the path in `workdir`**"
   ]
  },
  {
   "cell_type": "markdown",
   "metadata": {},
   "source": [
    "Input the variables below: "
   ]
  },
  {
   "cell_type": "code",
   "execution_count": 5,
   "metadata": {},
   "outputs": [],
   "source": [
    "workdir = !pwd\n",
    "workdir = str(Path(workdir[0]).parents[0])"
   ]
  },
  {
   "cell_type": "markdown",
   "metadata": {},
   "source": [
    "# read raw data"
   ]
  },
  {
   "cell_type": "code",
   "execution_count": 10,
   "metadata": {
    "collapsed": true,
    "jupyter": {
     "outputs_hidden": true
    },
    "tags": []
   },
   "outputs": [
    {
     "ename": "ValidationError",
     "evalue": "/Users/alchemist/Aakash/BonnGut/Microbiome_pipeline/raw_data is not a file.",
     "output_type": "error",
     "traceback": [
      "\u001b[0;31m---------------------------------------------------------------------------\u001b[0m",
      "\u001b[0;31mValidationError\u001b[0m                           Traceback (most recent call last)",
      "\u001b[0;32m<ipython-input-10-ebe8f3e81990>\u001b[0m in \u001b[0;36m<module>\u001b[0;34m\u001b[0m\n\u001b[0;32m----> 1\u001b[0;31m \u001b[0mraw_sequences\u001b[0m \u001b[0;34m=\u001b[0m \u001b[0mqiime2\u001b[0m\u001b[0;34m.\u001b[0m\u001b[0mArtifact\u001b[0m\u001b[0;34m.\u001b[0m\u001b[0mimport_data\u001b[0m\u001b[0;34m(\u001b[0m\u001b[0;34m'SampleData[SequencesWithQuality]'\u001b[0m\u001b[0;34m,\u001b[0m \u001b[0mraw_data\u001b[0m\u001b[0;34m,\u001b[0m\u001b[0mview_type\u001b[0m\u001b[0;34m=\u001b[0m\u001b[0;34m'SingleEndFastqManifestPhred33V2'\u001b[0m\u001b[0;34m)\u001b[0m\u001b[0;34m\u001b[0m\u001b[0;34m\u001b[0m\u001b[0m\n\u001b[0m",
      "\u001b[0;32m~/anaconda3/envs/qiime2-2020.8/lib/python3.6/site-packages/qiime2/sdk/result.py\u001b[0m in \u001b[0;36mimport_data\u001b[0;34m(cls, type, view, view_type)\u001b[0m\n\u001b[1;32m    239\u001b[0m         \u001b[0mprovenance_capture\u001b[0m \u001b[0;34m=\u001b[0m \u001b[0marchive\u001b[0m\u001b[0;34m.\u001b[0m\u001b[0mImportProvenanceCapture\u001b[0m\u001b[0;34m(\u001b[0m\u001b[0mformat_\u001b[0m\u001b[0;34m,\u001b[0m \u001b[0mmd5sums\u001b[0m\u001b[0;34m)\u001b[0m\u001b[0;34m\u001b[0m\u001b[0;34m\u001b[0m\u001b[0m\n\u001b[1;32m    240\u001b[0m         return cls._from_view(type_, view, view_type, provenance_capture,\n\u001b[0;32m--> 241\u001b[0;31m                               validate_level='max')\n\u001b[0m\u001b[1;32m    242\u001b[0m \u001b[0;34m\u001b[0m\u001b[0m\n\u001b[1;32m    243\u001b[0m     \u001b[0;34m@\u001b[0m\u001b[0mclassmethod\u001b[0m\u001b[0;34m\u001b[0m\u001b[0;34m\u001b[0m\u001b[0m\n",
      "\u001b[0;32m~/anaconda3/envs/qiime2-2020.8/lib/python3.6/site-packages/qiime2/sdk/result.py\u001b[0m in \u001b[0;36m_from_view\u001b[0;34m(cls, type, view, view_type, provenance_capture, validate_level)\u001b[0m\n\u001b[1;32m    265\u001b[0m         transformation = from_type.make_transformation(to_type,\n\u001b[1;32m    266\u001b[0m                                                        recorder=recorder)\n\u001b[0;32m--> 267\u001b[0;31m         \u001b[0mresult\u001b[0m \u001b[0;34m=\u001b[0m \u001b[0mtransformation\u001b[0m\u001b[0;34m(\u001b[0m\u001b[0mview\u001b[0m\u001b[0;34m,\u001b[0m \u001b[0mvalidate_level\u001b[0m\u001b[0;34m)\u001b[0m\u001b[0;34m\u001b[0m\u001b[0;34m\u001b[0m\u001b[0m\n\u001b[0m\u001b[1;32m    268\u001b[0m \u001b[0;34m\u001b[0m\u001b[0m\n\u001b[1;32m    269\u001b[0m         \u001b[0martifact\u001b[0m \u001b[0;34m=\u001b[0m \u001b[0mcls\u001b[0m\u001b[0;34m.\u001b[0m\u001b[0m__new__\u001b[0m\u001b[0;34m(\u001b[0m\u001b[0mcls\u001b[0m\u001b[0;34m)\u001b[0m\u001b[0;34m\u001b[0m\u001b[0;34m\u001b[0m\u001b[0m\n",
      "\u001b[0;32m~/anaconda3/envs/qiime2-2020.8/lib/python3.6/site-packages/qiime2/core/transform.py\u001b[0m in \u001b[0;36mtransformation\u001b[0;34m(view, validate_level)\u001b[0m\n\u001b[1;32m     66\u001b[0m         \u001b[0;32mdef\u001b[0m \u001b[0mtransformation\u001b[0m\u001b[0;34m(\u001b[0m\u001b[0mview\u001b[0m\u001b[0;34m,\u001b[0m \u001b[0mvalidate_level\u001b[0m\u001b[0;34m=\u001b[0m\u001b[0;34m'min'\u001b[0m\u001b[0;34m)\u001b[0m\u001b[0;34m:\u001b[0m\u001b[0;34m\u001b[0m\u001b[0;34m\u001b[0m\u001b[0m\n\u001b[1;32m     67\u001b[0m             \u001b[0mview\u001b[0m \u001b[0;34m=\u001b[0m \u001b[0mself\u001b[0m\u001b[0;34m.\u001b[0m\u001b[0mcoerce_view\u001b[0m\u001b[0;34m(\u001b[0m\u001b[0mview\u001b[0m\u001b[0;34m)\u001b[0m\u001b[0;34m\u001b[0m\u001b[0;34m\u001b[0m\u001b[0m\n\u001b[0;32m---> 68\u001b[0;31m             \u001b[0mself\u001b[0m\u001b[0;34m.\u001b[0m\u001b[0mvalidate\u001b[0m\u001b[0;34m(\u001b[0m\u001b[0mview\u001b[0m\u001b[0;34m,\u001b[0m \u001b[0mvalidate_level\u001b[0m\u001b[0;34m)\u001b[0m\u001b[0;34m\u001b[0m\u001b[0;34m\u001b[0m\u001b[0m\n\u001b[0m\u001b[1;32m     69\u001b[0m \u001b[0;34m\u001b[0m\u001b[0m\n\u001b[1;32m     70\u001b[0m             \u001b[0mnew_view\u001b[0m \u001b[0;34m=\u001b[0m \u001b[0mtransformer\u001b[0m\u001b[0;34m(\u001b[0m\u001b[0mview\u001b[0m\u001b[0;34m)\u001b[0m\u001b[0;34m\u001b[0m\u001b[0;34m\u001b[0m\u001b[0m\n",
      "\u001b[0;32m~/anaconda3/envs/qiime2-2020.8/lib/python3.6/site-packages/qiime2/core/transform.py\u001b[0m in \u001b[0;36mvalidate\u001b[0;34m(self, view, level)\u001b[0m\n\u001b[1;32m    141\u001b[0m                             % (view, self._view_type))\n\u001b[1;32m    142\u001b[0m         \u001b[0;31m# Formats have a validate method, so defer to it\u001b[0m\u001b[0;34m\u001b[0m\u001b[0;34m\u001b[0m\u001b[0;34m\u001b[0m\u001b[0m\n\u001b[0;32m--> 143\u001b[0;31m         \u001b[0mview\u001b[0m\u001b[0;34m.\u001b[0m\u001b[0mvalidate\u001b[0m\u001b[0;34m(\u001b[0m\u001b[0mlevel\u001b[0m\u001b[0;34m)\u001b[0m\u001b[0;34m\u001b[0m\u001b[0;34m\u001b[0m\u001b[0m\n\u001b[0m\u001b[1;32m    144\u001b[0m \u001b[0;34m\u001b[0m\u001b[0m\n\u001b[1;32m    145\u001b[0m     \u001b[0;32mdef\u001b[0m \u001b[0mset_user_owned\u001b[0m\u001b[0;34m(\u001b[0m\u001b[0mself\u001b[0m\u001b[0;34m,\u001b[0m \u001b[0mview\u001b[0m\u001b[0;34m,\u001b[0m \u001b[0mvalue\u001b[0m\u001b[0;34m)\u001b[0m\u001b[0;34m:\u001b[0m\u001b[0;34m\u001b[0m\u001b[0;34m\u001b[0m\u001b[0m\n",
      "\u001b[0;32m~/anaconda3/envs/qiime2-2020.8/lib/python3.6/site-packages/qiime2/plugin/model/file_format.py\u001b[0m in \u001b[0;36mvalidate\u001b[0;34m(self, level)\u001b[0m\n\u001b[1;32m     19\u001b[0m \u001b[0;34m\u001b[0m\u001b[0m\n\u001b[1;32m     20\u001b[0m         \u001b[0;32mif\u001b[0m \u001b[0;32mnot\u001b[0m \u001b[0mself\u001b[0m\u001b[0;34m.\u001b[0m\u001b[0mpath\u001b[0m\u001b[0;34m.\u001b[0m\u001b[0mis_file\u001b[0m\u001b[0;34m(\u001b[0m\u001b[0;34m)\u001b[0m\u001b[0;34m:\u001b[0m\u001b[0;34m\u001b[0m\u001b[0;34m\u001b[0m\u001b[0m\n\u001b[0;32m---> 21\u001b[0;31m             \u001b[0;32mraise\u001b[0m \u001b[0mValidationError\u001b[0m\u001b[0;34m(\u001b[0m\u001b[0;34m\"%s is not a file.\"\u001b[0m \u001b[0;34m%\u001b[0m \u001b[0mself\u001b[0m\u001b[0;34m.\u001b[0m\u001b[0mpath\u001b[0m\u001b[0;34m)\u001b[0m\u001b[0;34m\u001b[0m\u001b[0;34m\u001b[0m\u001b[0m\n\u001b[0m\u001b[1;32m     22\u001b[0m \u001b[0;34m\u001b[0m\u001b[0m\n\u001b[1;32m     23\u001b[0m         \u001b[0;32mif\u001b[0m \u001b[0mhasattr\u001b[0m\u001b[0;34m(\u001b[0m\u001b[0mself\u001b[0m\u001b[0;34m,\u001b[0m \u001b[0;34m'_validate_'\u001b[0m\u001b[0;34m)\u001b[0m\u001b[0;34m:\u001b[0m\u001b[0;34m\u001b[0m\u001b[0;34m\u001b[0m\u001b[0m\n",
      "\u001b[0;31mValidationError\u001b[0m: /Users/alchemist/Aakash/BonnGut/Microbiome_pipeline/raw_data is not a file."
     ]
    }
   ],
   "source": [
    "raw_sequences = qiime2.Artifact.import_data('SampleData[PairedEndSequencesWithQuality]', workdir+'/raw_data',view_type='CasavaOneEightSingleLanePerSampleDirFmt')"
   ]
  },
  {
   "cell_type": "code",
   "execution_count": null,
   "metadata": {},
   "outputs": [],
   "source": [
    "raw_sequences.save(workdir+'/demultiplexed_files/demultiplexed.qza') #saving demultipexed data"
   ]
  },
  {
   "cell_type": "markdown",
   "metadata": {},
   "source": [
    "### read  metadata into `qiime2.Metadata` object"
   ]
  },
  {
   "cell_type": "code",
   "execution_count": 6,
   "metadata": {
    "tags": []
   },
   "outputs": [
    {
     "data": {
      "text/html": [
       "<div>\n",
       "<style scoped>\n",
       "    .dataframe tbody tr th:only-of-type {\n",
       "        vertical-align: middle;\n",
       "    }\n",
       "\n",
       "    .dataframe tbody tr th {\n",
       "        vertical-align: top;\n",
       "    }\n",
       "\n",
       "    .dataframe thead th {\n",
       "        text-align: right;\n",
       "    }\n",
       "</style>\n",
       "<table border=\"1\" class=\"dataframe\">\n",
       "  <thead>\n",
       "    <tr style=\"text-align: right;\">\n",
       "      <th></th>\n",
       "      <th>barcode-sequence</th>\n",
       "      <th>body-site</th>\n",
       "      <th>year</th>\n",
       "      <th>month</th>\n",
       "      <th>day</th>\n",
       "      <th>Person_ID</th>\n",
       "      <th>reported-antibiotic-usage</th>\n",
       "      <th>days-since-experiment-start</th>\n",
       "    </tr>\n",
       "    <tr>\n",
       "      <th>sample-id</th>\n",
       "      <th></th>\n",
       "      <th></th>\n",
       "      <th></th>\n",
       "      <th></th>\n",
       "      <th></th>\n",
       "      <th></th>\n",
       "      <th></th>\n",
       "      <th></th>\n",
       "    </tr>\n",
       "  </thead>\n",
       "  <tbody>\n",
       "    <tr>\n",
       "      <th>L1S8</th>\n",
       "      <td>AGCTGACTAGTC</td>\n",
       "      <td>gut</td>\n",
       "      <td>2008.0</td>\n",
       "      <td>10.0</td>\n",
       "      <td>28.0</td>\n",
       "      <td>subject-1</td>\n",
       "      <td>Yes</td>\n",
       "      <td>0.0</td>\n",
       "    </tr>\n",
       "    <tr>\n",
       "      <th>L1S57</th>\n",
       "      <td>ACACACTATGGC</td>\n",
       "      <td>gut</td>\n",
       "      <td>2009.0</td>\n",
       "      <td>1.0</td>\n",
       "      <td>20.0</td>\n",
       "      <td>subject-1</td>\n",
       "      <td>No</td>\n",
       "      <td>84.0</td>\n",
       "    </tr>\n",
       "    <tr>\n",
       "      <th>L1S76</th>\n",
       "      <td>ACTACGTGTGGT</td>\n",
       "      <td>gut</td>\n",
       "      <td>2009.0</td>\n",
       "      <td>2.0</td>\n",
       "      <td>17.0</td>\n",
       "      <td>subject-1</td>\n",
       "      <td>No</td>\n",
       "      <td>112.0</td>\n",
       "    </tr>\n",
       "    <tr>\n",
       "      <th>L1S105</th>\n",
       "      <td>AGTGCGATGCGT</td>\n",
       "      <td>gut</td>\n",
       "      <td>2009.0</td>\n",
       "      <td>3.0</td>\n",
       "      <td>17.0</td>\n",
       "      <td>subject-1</td>\n",
       "      <td>No</td>\n",
       "      <td>140.0</td>\n",
       "    </tr>\n",
       "    <tr>\n",
       "      <th>L2S155</th>\n",
       "      <td>ACGATGCGACCA</td>\n",
       "      <td>left palm</td>\n",
       "      <td>2009.0</td>\n",
       "      <td>1.0</td>\n",
       "      <td>20.0</td>\n",
       "      <td>subject-1</td>\n",
       "      <td>No</td>\n",
       "      <td>84.0</td>\n",
       "    </tr>\n",
       "  </tbody>\n",
       "</table>\n",
       "</div>"
      ],
      "text/plain": [
       "          barcode-sequence  body-site    year  month   day  Person_ID  \\\n",
       "sample-id                                                               \n",
       "L1S8          AGCTGACTAGTC        gut  2008.0   10.0  28.0  subject-1   \n",
       "L1S57         ACACACTATGGC        gut  2009.0    1.0  20.0  subject-1   \n",
       "L1S76         ACTACGTGTGGT        gut  2009.0    2.0  17.0  subject-1   \n",
       "L1S105        AGTGCGATGCGT        gut  2009.0    3.0  17.0  subject-1   \n",
       "L2S155        ACGATGCGACCA  left palm  2009.0    1.0  20.0  subject-1   \n",
       "\n",
       "          reported-antibiotic-usage  days-since-experiment-start  \n",
       "sample-id                                                         \n",
       "L1S8                            Yes                          0.0  \n",
       "L1S57                            No                         84.0  \n",
       "L1S76                            No                        112.0  \n",
       "L1S105                           No                        140.0  \n",
       "L2S155                           No                         84.0  "
      ]
     },
     "execution_count": 6,
     "metadata": {},
     "output_type": "execute_result"
    }
   ],
   "source": [
    "sample_metadata    = qiime2.Metadata.load(workdir+'/metadata/metadata.tsv')\n",
    "sample_metadata_pd = sample_metadata.to_dataframe()\n",
    "sample_metadata_pd.head()"
   ]
  },
  {
   "cell_type": "code",
   "execution_count": 13,
   "metadata": {},
   "outputs": [],
   "source": [
    "sample_metadata.save(workdir+'/metadata/metadata.qza')"
   ]
  },
  {
   "cell_type": "markdown",
   "metadata": {},
   "source": [
    "## Demultiplexing sequences"
   ]
  },
  {
   "cell_type": "raw",
   "metadata": {},
   "source": [
    "demux_sequences = demux.methods.emp_single(single_end_sequences,\n",
    "                                           sample_metadata.get_column('BarcodeSequence'))"
   ]
  },
  {
   "cell_type": "code",
   "execution_count": null,
   "metadata": {},
   "outputs": [],
   "source": [
    "# Looking at quality plots before joining \n",
    "demux_summary = demux.visualizers.summarize(raw_sequences)\n",
    "demux_summary.visualization.export_data(workdir+'/demultiplexed_files/demux_summary')\n",
    "demux_joined.visualization"
   ]
  },
  {
   "cell_type": "code",
   "execution_count": null,
   "metadata": {},
   "outputs": [],
   "source": [
    "# Looking at quality plots after joining \n",
    "demux_joined_pairs = vsearch.methods.join_pairs(raw_sequences)\n",
    "demux_joined = demux.visualizers.summarize(demux_joined_pairs.joined_sequences)\n",
    "demux_joined.visualization.export_data(workdir+'/demultiplexed_files/demux_joined_summary')\n",
    "demux_joined.visualization"
   ]
  },
  {
   "cell_type": "markdown",
   "metadata": {},
   "source": [
    "## Denoising using dada2"
   ]
  },
  {
   "cell_type": "code",
   "execution_count": 15,
   "metadata": {},
   "outputs": [
    {
     "name": "stdout",
     "output_type": "stream",
     "text": [
      "Running external command line application(s). This may print messages to stdout and/or stderr.\n",
      "The command(s) being run are below. These commands cannot be manually re-run as they will depend on temporary files that no longer exist.\n",
      "\n",
      "Command: run_dada_paired.R /var/folders/bj/4d5l6xgx2fjgpp5jy9ql6jfh0000gn/T/tmp022078zd/forward /var/folders/bj/4d5l6xgx2fjgpp5jy9ql6jfh0000gn/T/tmp022078zd/reverse /var/folders/bj/4d5l6xgx2fjgpp5jy9ql6jfh0000gn/T/tmp022078zd/output.tsv.biom /var/folders/bj/4d5l6xgx2fjgpp5jy9ql6jfh0000gn/T/tmp022078zd/track.tsv /var/folders/bj/4d5l6xgx2fjgpp5jy9ql6jfh0000gn/T/tmp022078zd/filt_f /var/folders/bj/4d5l6xgx2fjgpp5jy9ql6jfh0000gn/T/tmp022078zd/filt_r 294 240 17 19 2.0 2.0 2 independent consensus 1.0 0 1000000\n",
      "\n"
     ]
    }
   ],
   "source": [
    "sequences = dada2.methods.denoise_paired(raw_sequences,\n",
    "                                  trim_left_f=17, #18\n",
    "                                  trim_left_r=19, #21\n",
    "                                  trunc_len_f=294, #278\n",
    "                                  trunc_len_r=240, #211\n",
    "                                  n_threads=0 \n",
    "                                 )"
   ]
  },
  {
   "cell_type": "code",
   "execution_count": 37,
   "metadata": {},
   "outputs": [
    {
     "data": {
      "text/plain": [
       "'/Users/alchemist/Aakash/BonnGut/Hannahs_study/qza_files/dada2_stats.qza'"
      ]
     },
     "execution_count": 37,
     "metadata": {},
     "output_type": "execute_result"
    }
   ],
   "source": [
    "dada2_stats = sequences.denoising_stats\n",
    "sequences.denoising_stats.save(workdir+\"/dada2_files/dada2_stats.qza\")\n",
    "sequences.denoising_stats.view\n",
    "#help(dada2_stats)"
   ]
  },
  {
   "cell_type": "markdown",
   "metadata": {},
   "source": [
    "## Saving Feature table & rep seq files"
   ]
  },
  {
   "cell_type": "code",
   "execution_count": 5,
   "metadata": {},
   "outputs": [
    {
     "data": {
      "text/plain": [
       "'/Users/alchemist/Aakash/BonnGut/Hannahs_study/qza_files/rep_seq.qza'"
      ]
     },
     "execution_count": 5,
     "metadata": {},
     "output_type": "execute_result"
    }
   ],
   "source": [
    "sequences.table.save(workdir+'/feature_table/table.qza')\n",
    "sequences.representative_sequences.save(workdir+'/rep_seq/rep_seq.qza')"
   ]
  },
  {
   "cell_type": "markdown",
   "metadata": {},
   "source": [
    "## Loading Feature table"
   ]
  },
  {
   "cell_type": "code",
   "execution_count": 11,
   "metadata": {},
   "outputs": [
    {
     "data": {
      "text/html": [
       "<div><img onload=\"(function(div, url){\n",
       "if (typeof require !== 'undefined') {\n",
       "    var baseURL = require.toUrl('').split('/').slice(0, -2).join('/');\n",
       "} else {\n",
       "    var baseURL = JSON.parse(\n",
       "        document.getElementById('jupyter-config-data').innerHTML\n",
       "    ).baseUrl.slice(0, -1);\n",
       "}\n",
       "url = baseURL + url;\n",
       "fetch(url).then(function(res) {\n",
       "    if (res.status === 404) {\n",
       "        div.innerHTML = 'Install QIIME 2 Jupyter extension with:<br />' +\n",
       "                        '<code>jupyter serverextension enable --py qiime2' +\n",
       "                        ' --sys-prefix</code><br />then restart your server.' +\n",
       "                        '<br /><br />(Interactive output not available on ' +\n",
       "                        'static notebook viewer services like nbviewer.)';\n",
       "    } else if (res.status === 409) {\n",
       "        div.innerHTML = 'Visualization no longer in scope. Re-run this cell' +\n",
       "                        ' to see the visualization.';\n",
       "    } else if (res.ok) {\n",
       "        url = res.url;\n",
       "        div.innerHTML = '<iframe src=\\'' + url + '\\' style=\\'' +\n",
       "                        'width: 100%; height: 700px; border: 0;\\'>' +\n",
       "                        '</iframe><hr />Open in a: <a href=\\'' + url + '\\'' +\n",
       "                        ' target=\\'_blank\\'>new window</a>'\n",
       "    } else {\n",
       "        div.innerHTML = 'Something has gone wrong. Check notebook server for' +\n",
       "                        ' errors.';\n",
       "    }\n",
       "});\n",
       "})(this.parentElement, '/qiime2/redirect?location=/var/folders/bj/4d5l6xgx2fjgpp5jy9ql6jfh0000gn/T/qiime2-archive-2vr6ou1y')\" src=\"data:image/gif;base64,R0lGODlhAQABAIAAAP///wAAACH5BAEAAAAALAAAAAABAAEAAAICRAEAOw==\" /></div>"
      ],
      "text/plain": [
       "<visualization: Visualization uuid: 64eeaf22-c8b8-4e92-a5fb-5add82dc3a16>"
      ]
     },
     "execution_count": 11,
     "metadata": {},
     "output_type": "execute_result"
    },
    {
     "data": {
      "image/png": "[encoded data removed]",
      "text/plain": [
       "<Figure size 432x288 with 1 Axes>"
      ]
     },
     "metadata": {
      "needs_background": "light"
     },
     "output_type": "display_data"
    }
   ],
   "source": [
    "table   = Artifact.load(workdir+'/feature_table/table.qza')\n",
    "rep_seq = Artifact.load(workdir+'/rep_seq/rep_seq.qza')\n",
    "output_viz = feature_table.visualizers.summarize(table,sample_metadata)\n",
    "output_viz.visualization.save(workdir+'/feature_table/table.qzv')\n",
    "output_viz.visualization"
   ]
  },
  {
   "cell_type": "markdown",
   "metadata": {},
   "source": [
    "## Generate a tree for phylogenetic diversity analyses"
   ]
  },
  {
   "cell_type": "code",
   "execution_count": 20,
   "metadata": {},
   "outputs": [
    {
     "name": "stdout",
     "output_type": "stream",
     "text": [
      "Running external command line application. This may print messages to stdout and/or stderr.\n",
      "The command being run is below. This command cannot be manually re-run as it will depend on temporary files that no longer exist.\n",
      "\n",
      "Command: mafft --preservecase --inputorder --thread 1 /var/folders/bj/4d5l6xgx2fjgpp5jy9ql6jfh0000gn/T/qiime2-archive-7z2wq84t/a1d69b1f-7894-463e-8c76-6d2b65724420/data/dna-sequences.fasta\n",
      "\n",
      "Running external command line application. This may print messages to stdout and/or stderr.\n",
      "The command being run is below. This command cannot be manually re-run as it will depend on temporary files that no longer exist.\n",
      "\n",
      "Command: FastTree -quote -nt /var/folders/bj/4d5l6xgx2fjgpp5jy9ql6jfh0000gn/T/qiime2-archive-vz7he0jn/872733ae-e70e-4784-bdc0-94ffc9f660d8/data/aligned-dna-sequences.fasta\n",
      "\n"
     ]
    },
    {
     "data": {
      "text/plain": [
       "'/Users/alchemist/Aakash/BonnGut/Microbiome_pipeline/phylo_tree/rooted_tree.qza'"
      ]
     },
     "execution_count": 20,
     "metadata": {},
     "output_type": "execute_result"
    }
   ],
   "source": [
    "phylogenic_tree = phylogeny.pipelines.align_to_tree_mafft_fasttree(rep_seq)#,n_threads='auto')\n",
    "phylogenic_tree.rooted_tree.save(workdir+'/phylo_tree/rooted_tree.qza')"
   ]
  },
  {
   "cell_type": "markdown",
   "metadata": {},
   "source": [
    "# Taxonomy Assignment"
   ]
  },
  {
   "cell_type": "code",
   "execution_count": 21,
   "metadata": {
    "collapsed": true,
    "jupyter": {
     "outputs_hidden": true
    },
    "tags": []
   },
   "outputs": [
    {
     "ename": "ValueError",
     "evalue": "/Users/alchemist/Aakash/BonnGut/Microbiome_pipeline/taxonomy/classifier/classifier_ezbiocloud.qza does not exist.",
     "output_type": "error",
     "traceback": [
      "\u001b[0;31m---------------------------------------------------------------------------\u001b[0m",
      "\u001b[0;31mValueError\u001b[0m                                Traceback (most recent call last)",
      "\u001b[0;32m<ipython-input-21-e4fda4a7e09c>\u001b[0m in \u001b[0;36m<module>\u001b[0;34m\u001b[0m\n\u001b[0;32m----> 1\u001b[0;31m \u001b[0mgg_classifier\u001b[0m \u001b[0;34m=\u001b[0m \u001b[0mArtifact\u001b[0m\u001b[0;34m.\u001b[0m\u001b[0mload\u001b[0m\u001b[0;34m(\u001b[0m\u001b[0mworkdir\u001b[0m\u001b[0;34m+\u001b[0m\u001b[0;34m'/taxonomy/classifier/classifier_ezbiocloud.qza'\u001b[0m\u001b[0;34m)\u001b[0m\u001b[0;34m\u001b[0m\u001b[0;34m\u001b[0m\u001b[0m\n\u001b[0m",
      "\u001b[0;32m~/anaconda3/envs/qiime2-2020.8/lib/python3.6/site-packages/qiime2/sdk/result.py\u001b[0m in \u001b[0;36mload\u001b[0;34m(cls, filepath)\u001b[0m\n\u001b[1;32m     64\u001b[0m     \u001b[0;32mdef\u001b[0m \u001b[0mload\u001b[0m\u001b[0;34m(\u001b[0m\u001b[0mcls\u001b[0m\u001b[0;34m,\u001b[0m \u001b[0mfilepath\u001b[0m\u001b[0;34m)\u001b[0m\u001b[0;34m:\u001b[0m\u001b[0;34m\u001b[0m\u001b[0;34m\u001b[0m\u001b[0m\n\u001b[1;32m     65\u001b[0m         \u001b[0;34m\"\"\"Factory for loading Artifacts and Visualizations.\"\"\"\u001b[0m\u001b[0;34m\u001b[0m\u001b[0;34m\u001b[0m\u001b[0m\n\u001b[0;32m---> 66\u001b[0;31m         \u001b[0marchiver\u001b[0m \u001b[0;34m=\u001b[0m \u001b[0marchive\u001b[0m\u001b[0;34m.\u001b[0m\u001b[0mArchiver\u001b[0m\u001b[0;34m.\u001b[0m\u001b[0mload\u001b[0m\u001b[0;34m(\u001b[0m\u001b[0mfilepath\u001b[0m\u001b[0;34m)\u001b[0m\u001b[0;34m\u001b[0m\u001b[0;34m\u001b[0m\u001b[0m\n\u001b[0m\u001b[1;32m     67\u001b[0m \u001b[0;34m\u001b[0m\u001b[0m\n\u001b[1;32m     68\u001b[0m         \u001b[0;32mif\u001b[0m \u001b[0mArtifact\u001b[0m\u001b[0;34m.\u001b[0m\u001b[0m_is_valid_type\u001b[0m\u001b[0;34m(\u001b[0m\u001b[0marchiver\u001b[0m\u001b[0;34m.\u001b[0m\u001b[0mtype\u001b[0m\u001b[0;34m)\u001b[0m\u001b[0;34m:\u001b[0m\u001b[0;34m\u001b[0m\u001b[0;34m\u001b[0m\u001b[0m\n",
      "\u001b[0;32m~/anaconda3/envs/qiime2-2020.8/lib/python3.6/site-packages/qiime2/core/archive/archiver.py\u001b[0m in \u001b[0;36mload\u001b[0;34m(cls, filepath)\u001b[0m\n\u001b[1;32m    297\u001b[0m     \u001b[0;34m@\u001b[0m\u001b[0mclassmethod\u001b[0m\u001b[0;34m\u001b[0m\u001b[0;34m\u001b[0m\u001b[0m\n\u001b[1;32m    298\u001b[0m     \u001b[0;32mdef\u001b[0m \u001b[0mload\u001b[0m\u001b[0;34m(\u001b[0m\u001b[0mcls\u001b[0m\u001b[0;34m,\u001b[0m \u001b[0mfilepath\u001b[0m\u001b[0;34m)\u001b[0m\u001b[0;34m:\u001b[0m\u001b[0;34m\u001b[0m\u001b[0;34m\u001b[0m\u001b[0m\n\u001b[0;32m--> 299\u001b[0;31m         \u001b[0marchive\u001b[0m \u001b[0;34m=\u001b[0m \u001b[0mcls\u001b[0m\u001b[0;34m.\u001b[0m\u001b[0mget_archive\u001b[0m\u001b[0;34m(\u001b[0m\u001b[0mfilepath\u001b[0m\u001b[0;34m)\u001b[0m\u001b[0;34m\u001b[0m\u001b[0;34m\u001b[0m\u001b[0m\n\u001b[0m\u001b[1;32m    300\u001b[0m         \u001b[0mFormat\u001b[0m \u001b[0;34m=\u001b[0m \u001b[0mcls\u001b[0m\u001b[0;34m.\u001b[0m\u001b[0mget_format_class\u001b[0m\u001b[0;34m(\u001b[0m\u001b[0marchive\u001b[0m\u001b[0;34m.\u001b[0m\u001b[0mversion\u001b[0m\u001b[0;34m)\u001b[0m\u001b[0;34m\u001b[0m\u001b[0;34m\u001b[0m\u001b[0m\n\u001b[1;32m    301\u001b[0m         \u001b[0;32mif\u001b[0m \u001b[0mFormat\u001b[0m \u001b[0;32mis\u001b[0m \u001b[0;32mNone\u001b[0m\u001b[0;34m:\u001b[0m\u001b[0;34m\u001b[0m\u001b[0;34m\u001b[0m\u001b[0m\n",
      "\u001b[0;32m~/anaconda3/envs/qiime2-2020.8/lib/python3.6/site-packages/qiime2/core/archive/archiver.py\u001b[0m in \u001b[0;36mget_archive\u001b[0;34m(cls, filepath)\u001b[0m\n\u001b[1;32m    257\u001b[0m         \u001b[0mfilepath\u001b[0m \u001b[0;34m=\u001b[0m \u001b[0mpathlib\u001b[0m\u001b[0;34m.\u001b[0m\u001b[0mPath\u001b[0m\u001b[0;34m(\u001b[0m\u001b[0mfilepath\u001b[0m\u001b[0;34m)\u001b[0m\u001b[0;34m\u001b[0m\u001b[0;34m\u001b[0m\u001b[0m\n\u001b[1;32m    258\u001b[0m         \u001b[0;32mif\u001b[0m \u001b[0;32mnot\u001b[0m \u001b[0mfilepath\u001b[0m\u001b[0;34m.\u001b[0m\u001b[0mexists\u001b[0m\u001b[0;34m(\u001b[0m\u001b[0;34m)\u001b[0m\u001b[0;34m:\u001b[0m\u001b[0;34m\u001b[0m\u001b[0;34m\u001b[0m\u001b[0m\n\u001b[0;32m--> 259\u001b[0;31m             \u001b[0;32mraise\u001b[0m \u001b[0mValueError\u001b[0m\u001b[0;34m(\u001b[0m\u001b[0;34m\"%s does not exist.\"\u001b[0m \u001b[0;34m%\u001b[0m \u001b[0mfilepath\u001b[0m\u001b[0;34m)\u001b[0m\u001b[0;34m\u001b[0m\u001b[0;34m\u001b[0m\u001b[0m\n\u001b[0m\u001b[1;32m    260\u001b[0m \u001b[0;34m\u001b[0m\u001b[0m\n\u001b[1;32m    261\u001b[0m         \u001b[0;32mif\u001b[0m \u001b[0m_ZipArchive\u001b[0m\u001b[0;34m.\u001b[0m\u001b[0mis_archive_type\u001b[0m\u001b[0;34m(\u001b[0m\u001b[0mfilepath\u001b[0m\u001b[0;34m)\u001b[0m\u001b[0;34m:\u001b[0m\u001b[0;34m\u001b[0m\u001b[0;34m\u001b[0m\u001b[0m\n",
      "\u001b[0;31mValueError\u001b[0m: /Users/alchemist/Aakash/BonnGut/Microbiome_pipeline/taxonomy/classifier/classifier_ezbiocloud.qza does not exist."
     ]
    }
   ],
   "source": [
    "gg_classifier = Artifact.load(workdir+'/taxonomy/classifier/classifier_ezbiocloud.qza')"
   ]
  },
  {
   "cell_type": "code",
   "execution_count": 7,
   "metadata": {},
   "outputs": [
    {
     "data": {
      "text/plain": [
       "'/Users/alchemist/Aakash/BonnGut/Hannahs_study/taxonomy/taxonomy_ezbiocloud.qza'"
      ]
     },
     "execution_count": 7,
     "metadata": {},
     "output_type": "execute_result"
    }
   ],
   "source": [
    "taxonomy = feature_classifier.methods.classify_sklearn(reads = rep_seq,\n",
    "                                                       classifier = gg_classifier)\n",
    "taxonomy.classification.save(workdir+'/taxonomy/taxonomy_ezbiocloud.qza')"
   ]
  },
  {
   "cell_type": "code",
   "execution_count": 8,
   "metadata": {
    "collapsed": true,
    "jupyter": {
     "outputs_hidden": true
    },
    "tags": []
   },
   "outputs": [
    {
     "data": {
      "text/html": [
       "<div><img onload=\"(function(div, url){\n",
       "if (typeof require !== 'undefined') {\n",
       "    var baseURL = require.toUrl('').split('/').slice(0, -2).join('/');\n",
       "} else {\n",
       "    var baseURL = JSON.parse(\n",
       "        document.getElementById('jupyter-config-data').innerHTML\n",
       "    ).baseUrl.slice(0, -1);\n",
       "}\n",
       "url = baseURL + url;\n",
       "fetch(url).then(function(res) {\n",
       "    if (res.status === 404) {\n",
       "        div.innerHTML = 'Install QIIME 2 Jupyter extension with:<br />' +\n",
       "                        '<code>jupyter serverextension enable --py qiime2' +\n",
       "                        ' --sys-prefix</code><br />then restart your server.' +\n",
       "                        '<br /><br />(Interactive output not available on ' +\n",
       "                        'static notebook viewer services like nbviewer.)';\n",
       "    } else if (res.status === 409) {\n",
       "        div.innerHTML = 'Visualization no longer in scope. Re-run this cell' +\n",
       "                        ' to see the visualization.';\n",
       "    } else if (res.ok) {\n",
       "        url = res.url;\n",
       "        div.innerHTML = '<iframe src=\\'' + url + '\\' style=\\'' +\n",
       "                        'width: 100%; height: 700px; border: 0;\\'>' +\n",
       "                        '</iframe><hr />Open in a: <a href=\\'' + url + '\\'' +\n",
       "                        ' target=\\'_blank\\'>new window</a>'\n",
       "    } else {\n",
       "        div.innerHTML = 'Something has gone wrong. Check notebook server for' +\n",
       "                        ' errors.';\n",
       "    }\n",
       "});\n",
       "})(this.parentElement, '/qiime2/redirect?location=/var/folders/bj/4d5l6xgx2fjgpp5jy9ql6jfh0000gn/T/qiime2-archive-ok8pv6cl')\" src=\"data:image/gif;base64,R0lGODlhAQABAIAAAP///wAAACH5BAEAAAAALAAAAAABAAEAAAICRAEAOw==\" /></div>"
      ],
      "text/plain": [
       "<visualization: Visualization uuid: 7f9a1737-eb7d-4b88-8599-fa34df549c37>"
      ]
     },
     "execution_count": 8,
     "metadata": {},
     "output_type": "execute_result"
    }
   ],
   "source": [
    "taxonomy_classification = Artifact.load(workdir+'/taxonomy/taxonomy_ezbiocloud.qza')\n",
    "taxonomy_vis = metadata.visualizers.tabulate(taxonomy_classification.view(qiime2.Metadata))\n",
    "taxonomy_vis.visualization"
   ]
  },
  {
   "cell_type": "code",
   "execution_count": 12,
   "metadata": {},
   "outputs": [],
   "source": [
    "taxa_bar_plot = taxa.visualizers.barplot(table, taxonomy_classification, sample_metadata)\n",
    "taxa_bar_plot.visualization.export_data(workdir+'/taxonomy')"
   ]
  },
  {
   "cell_type": "code",
   "execution_count": null,
   "metadata": {},
   "outputs": [],
   "source": []
  }
 ],
 "metadata": {
  "kernelspec": {
   "display_name": "Python 3",
   "language": "python",
   "name": "python3"
  },
  "language_info": {
   "codemirror_mode": {
    "name": "ipython",
    "version": 3
   },
   "file_extension": ".py",
   "mimetype": "text/x-python",
   "name": "python",
   "nbconvert_exporter": "python",
   "pygments_lexer": "ipython3",
   "version": "3.6.11"
  }
 },
 "nbformat": 4,
 "nbformat_minor": 4
}
