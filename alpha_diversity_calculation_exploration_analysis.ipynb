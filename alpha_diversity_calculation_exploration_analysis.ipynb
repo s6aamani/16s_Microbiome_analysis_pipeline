{
 "cells": [
  {
   "cell_type": "code",
   "execution_count": 1,
   "metadata": {
    "tags": []
   },
   "outputs": [],
   "source": [
    "%matplotlib inline\n",
    "from pathlib import Path\n",
    "\n",
    "import sys\n",
    "\n",
    "import qiime2\n",
    "import pandas as pd\n",
    "import statsmodels.api as sm\n",
    "import numpy as np\n",
    "import statsmodels.formula.api as smf\n",
    "import seaborn as sns\n",
    "import matplotlib as mpl\n",
    "import matplotlib.pyplot as plt\n",
    "# sys.path.append('/Users/alchemist/Aakash/Diet/gut_brain_project/pipeline_trail_version/dokdo/')\n",
    "# import api\n",
    "import statsmodels.api as sm\n",
    "import scipy\n",
    "\n",
    "from tempfile import mkdtemp\n",
    "from qiime2 import Artifact\n",
    "from qiime2.plugins import demux, deblur, quality_filter, \\\n",
    "                          metadata, feature_table, alignment, \\\n",
    "                          phylogeny, diversity, emperor, feature_classifier, \\\n",
    "                          taxa, composition, dada2, vsearch, longitudinal, \\\n",
    "                          gneiss, songbird, aldex2, qurro, diversity_lib\n",
    "from qiime2.plugins.diversity.pipelines import alpha,alpha_phylogenetic,beta,beta_phylogenetic\n",
    "\n",
    "import matplotlib.pyplot as plt\n",
    "\n",
    "\n",
    "pd.options.display.max_seq_items = 2000"
   ]
  },
  {
   "cell_type": "markdown",
   "metadata": {},
   "source": [
    "Before beginning this tutorial, create a new directory and change to that directory.  \n",
    "**make sure to change the path in `workdir`**"
   ]
  },
  {
   "cell_type": "markdown",
   "metadata": {},
   "source": [
    "Input the variables below: "
   ]
  },
  {
   "cell_type": "code",
   "execution_count": 2,
   "metadata": {
    "ExecuteTime": {
     "end_time": "2021-05-18T08:12:24.314480Z",
     "start_time": "2021-05-18T08:12:24.311462Z"
    }
   },
   "outputs": [
    {
     "data": {
      "text/plain": [
       "'/Users/alchemist/Aakash/BonnGut/Microbiome_pipeline'"
      ]
     },
     "execution_count": 2,
     "metadata": {},
     "output_type": "execute_result"
    }
   ],
   "source": [
    "workdir = !pwd\n",
    "workdir = str(Path(workdir[0]).parents[0])\n",
    "workdir"
   ]
  },
  {
   "cell_type": "markdown",
   "metadata": {},
   "source": [
    "## Sample metadata"
   ]
  },
  {
   "cell_type": "markdown",
   "metadata": {},
   "source": [
    "### read  metadata into `qiime2.Metadata` object"
   ]
  },
  {
   "cell_type": "code",
   "execution_count": 3,
   "metadata": {
    "ExecuteTime": {
     "end_time": "2021-05-18T08:12:24.398332Z",
     "start_time": "2021-05-18T08:12:24.326382Z"
    }
   },
   "outputs": [
    {
     "data": {
      "text/html": [
       "<div>\n",
       "<style scoped>\n",
       "    .dataframe tbody tr th:only-of-type {\n",
       "        vertical-align: middle;\n",
       "    }\n",
       "\n",
       "    .dataframe tbody tr th {\n",
       "        vertical-align: top;\n",
       "    }\n",
       "\n",
       "    .dataframe thead th {\n",
       "        text-align: right;\n",
       "    }\n",
       "</style>\n",
       "<table border=\"1\" class=\"dataframe\">\n",
       "  <thead>\n",
       "    <tr style=\"text-align: right;\">\n",
       "      <th></th>\n",
       "      <th>barcode-sequence</th>\n",
       "      <th>body-site</th>\n",
       "      <th>year</th>\n",
       "      <th>month</th>\n",
       "      <th>day</th>\n",
       "      <th>Person_ID</th>\n",
       "      <th>reported-antibiotic-usage</th>\n",
       "      <th>days-since-experiment-start</th>\n",
       "    </tr>\n",
       "    <tr>\n",
       "      <th>sample-id</th>\n",
       "      <th></th>\n",
       "      <th></th>\n",
       "      <th></th>\n",
       "      <th></th>\n",
       "      <th></th>\n",
       "      <th></th>\n",
       "      <th></th>\n",
       "      <th></th>\n",
       "    </tr>\n",
       "  </thead>\n",
       "  <tbody>\n",
       "    <tr>\n",
       "      <th>L1S8</th>\n",
       "      <td>AGCTGACTAGTC</td>\n",
       "      <td>gut</td>\n",
       "      <td>2008.0</td>\n",
       "      <td>10.0</td>\n",
       "      <td>28.0</td>\n",
       "      <td>subject-1</td>\n",
       "      <td>Yes</td>\n",
       "      <td>0.0</td>\n",
       "    </tr>\n",
       "    <tr>\n",
       "      <th>L1S57</th>\n",
       "      <td>ACACACTATGGC</td>\n",
       "      <td>gut</td>\n",
       "      <td>2009.0</td>\n",
       "      <td>1.0</td>\n",
       "      <td>20.0</td>\n",
       "      <td>subject-1</td>\n",
       "      <td>No</td>\n",
       "      <td>84.0</td>\n",
       "    </tr>\n",
       "    <tr>\n",
       "      <th>L1S76</th>\n",
       "      <td>ACTACGTGTGGT</td>\n",
       "      <td>gut</td>\n",
       "      <td>2009.0</td>\n",
       "      <td>2.0</td>\n",
       "      <td>17.0</td>\n",
       "      <td>subject-1</td>\n",
       "      <td>No</td>\n",
       "      <td>112.0</td>\n",
       "    </tr>\n",
       "    <tr>\n",
       "      <th>L1S105</th>\n",
       "      <td>AGTGCGATGCGT</td>\n",
       "      <td>gut</td>\n",
       "      <td>2009.0</td>\n",
       "      <td>3.0</td>\n",
       "      <td>17.0</td>\n",
       "      <td>subject-1</td>\n",
       "      <td>No</td>\n",
       "      <td>140.0</td>\n",
       "    </tr>\n",
       "    <tr>\n",
       "      <th>L2S155</th>\n",
       "      <td>ACGATGCGACCA</td>\n",
       "      <td>left palm</td>\n",
       "      <td>2009.0</td>\n",
       "      <td>1.0</td>\n",
       "      <td>20.0</td>\n",
       "      <td>subject-1</td>\n",
       "      <td>No</td>\n",
       "      <td>84.0</td>\n",
       "    </tr>\n",
       "  </tbody>\n",
       "</table>\n",
       "</div>"
      ],
      "text/plain": [
       "          barcode-sequence  body-site    year  month   day  Person_ID  \\\n",
       "sample-id                                                               \n",
       "L1S8          AGCTGACTAGTC        gut  2008.0   10.0  28.0  subject-1   \n",
       "L1S57         ACACACTATGGC        gut  2009.0    1.0  20.0  subject-1   \n",
       "L1S76         ACTACGTGTGGT        gut  2009.0    2.0  17.0  subject-1   \n",
       "L1S105        AGTGCGATGCGT        gut  2009.0    3.0  17.0  subject-1   \n",
       "L2S155        ACGATGCGACCA  left palm  2009.0    1.0  20.0  subject-1   \n",
       "\n",
       "          reported-antibiotic-usage  days-since-experiment-start  \n",
       "sample-id                                                         \n",
       "L1S8                            Yes                          0.0  \n",
       "L1S57                            No                         84.0  \n",
       "L1S76                            No                        112.0  \n",
       "L1S105                           No                        140.0  \n",
       "L2S155                           No                         84.0  "
      ]
     },
     "execution_count": 3,
     "metadata": {},
     "output_type": "execute_result"
    }
   ],
   "source": [
    "sample_metadata    = qiime2.Metadata.load(workdir+'/metadata/metadata.tsv')\n",
    "sample_metadata_pd = sample_metadata.to_dataframe()\n",
    "sample_metadata_pd.head()"
   ]
  },
  {
   "cell_type": "markdown",
   "metadata": {},
   "source": [
    "## Loading Feature table"
   ]
  },
  {
   "cell_type": "code",
   "execution_count": 4,
   "metadata": {
    "ExecuteTime": {
     "end_time": "2021-05-18T08:12:27.873089Z",
     "start_time": "2021-05-18T08:12:24.441088Z"
    },
    "tags": []
   },
   "outputs": [
    {
     "data": {
      "text/html": [
       "<div><img onload=\"(function(div, url){\n",
       "if (typeof require !== 'undefined') {\n",
       "    var baseURL = require.toUrl('').split('/').slice(0, -2).join('/');\n",
       "} else {\n",
       "    var baseURL = JSON.parse(\n",
       "        document.getElementById('jupyter-config-data').innerHTML\n",
       "    ).baseUrl.slice(0, -1);\n",
       "}\n",
       "url = baseURL + url;\n",
       "fetch(url).then(function(res) {\n",
       "    if (res.status === 404) {\n",
       "        div.innerHTML = 'Install QIIME 2 Jupyter extension with:<br />' +\n",
       "                        '<code>jupyter serverextension enable --py qiime2' +\n",
       "                        ' --sys-prefix</code><br />then restart your server.' +\n",
       "                        '<br /><br />(Interactive output not available on ' +\n",
       "                        'static notebook viewer services like nbviewer.)';\n",
       "    } else if (res.status === 409) {\n",
       "        div.innerHTML = 'Visualization no longer in scope. Re-run this cell' +\n",
       "                        ' to see the visualization.';\n",
       "    } else if (res.ok) {\n",
       "        url = res.url;\n",
       "        div.innerHTML = '<iframe src=\\'' + url + '\\' style=\\'' +\n",
       "                        'width: 100%; height: 700px; border: 0;\\'>' +\n",
       "                        '</iframe><hr />Open in a: <a href=\\'' + url + '\\'' +\n",
       "                        ' target=\\'_blank\\'>new window</a>'\n",
       "    } else {\n",
       "        div.innerHTML = 'Something has gone wrong. Check notebook server for' +\n",
       "                        ' errors.';\n",
       "    }\n",
       "});\n",
       "})(this.parentElement, '/qiime2/redirect?location=/var/folders/bj/4d5l6xgx2fjgpp5jy9ql6jfh0000gn/T/qiime2-archive-h63butmh')\" src=\"data:image/gif;base64,R0lGODlhAQABAIAAAP///wAAACH5BAEAAAAALAAAAAABAAEAAAICRAEAOw==\" /></div>"
      ],
      "text/plain": [
       "<visualization: Visualization uuid: 3b1c3175-256b-44d3-8c46-35fedcb0e4fa>"
      ]
     },
     "execution_count": 4,
     "metadata": {},
     "output_type": "execute_result"
    },
    {
     "data": {
      "image/png": "[encoded data removed]",
      "text/plain": [
       "<Figure size 432x288 with 1 Axes>"
      ]
     },
     "metadata": {
      "needs_background": "light"
     },
     "output_type": "display_data"
    }
   ],
   "source": [
    "#\n",
    "table                       = Artifact.load(workdir+'/feature_table/table.qza')\n",
    "rep_seq                     = Artifact.load(workdir+'/rep_seq/rep_seq.qza')\n",
    "phylogenic_tree_rooted_tree = Artifact.load(workdir+'/phylo_tree/rooted_tree.qza')\n",
    "#\n",
    "output_viz = feature_table.visualizers.summarize(table,sample_metadata) \n",
    "output_viz.visualization"
   ]
  },
  {
   "cell_type": "markdown",
   "metadata": {},
   "source": [
    "# Input the variables"
   ]
  },
  {
   "cell_type": "code",
   "execution_count": 5,
   "metadata": {},
   "outputs": [],
   "source": [
    "Max_depth         = 9820\n",
    "Min_depth         = 897   #approximation\n",
    "Max_feature_depth = 3909        #depth with maximum features\n",
    "Step              = 2500\n",
    "rarefy_list       = np.arange(Min_depth,Max_depth,Step)\n",
    "rarefy_list       = np.append(rarefy_list,Max_feature_depth)"
   ]
  },
  {
   "cell_type": "code",
   "execution_count": 40,
   "metadata": {
    "tags": []
   },
   "outputs": [
    {
     "name": "stdout",
     "output_type": "stream",
     "text": [
      "Calculating diversity metrics for 897\n"
     ]
    },
    {
     "name": "stderr",
     "output_type": "stream",
     "text": [
      "/Users/alchemist/anaconda3/envs/qiime2-2020.8/lib/python3.6/site-packages/sklearn/metrics/pairwise.py:1761: DataConversionWarning: Data was converted to boolean for metric jaccard\n",
      "  warnings.warn(msg, DataConversionWarning)\n",
      "/Users/alchemist/anaconda3/envs/qiime2-2020.8/lib/python3.6/site-packages/skbio/stats/ordination/_principal_coordinate_analysis.py:152: RuntimeWarning: The result contains negative eigenvalues. Please compare their magnitude with the magnitude of some of the largest positive eigenvalues. If the negative ones are smaller, it's probably safe to ignore them, but if they are large in magnitude, the results won't be useful. See the Notes section for more details. The smallest eigenvalue is -0.013522465080301867 and the largest is 3.787971034135235.\n",
      "  RuntimeWarning\n",
      "/Users/alchemist/anaconda3/envs/qiime2-2020.8/lib/python3.6/site-packages/skbio/stats/ordination/_principal_coordinate_analysis.py:152: RuntimeWarning: The result contains negative eigenvalues. Please compare their magnitude with the magnitude of some of the largest positive eigenvalues. If the negative ones are smaller, it's probably safe to ignore them, but if they are large in magnitude, the results won't be useful. See the Notes section for more details. The smallest eigenvalue is -0.010891490933327783 and the largest is 2.6502541279538696.\n",
      "  RuntimeWarning\n",
      "/Users/alchemist/anaconda3/envs/qiime2-2020.8/lib/python3.6/site-packages/skbio/stats/ordination/_principal_coordinate_analysis.py:152: RuntimeWarning: The result contains negative eigenvalues. Please compare their magnitude with the magnitude of some of the largest positive eigenvalues. If the negative ones are smaller, it's probably safe to ignore them, but if they are large in magnitude, the results won't be useful. See the Notes section for more details. The smallest eigenvalue is -0.022563051359418735 and the largest is 3.482657885882314.\n",
      "  RuntimeWarning\n",
      "/Users/alchemist/anaconda3/envs/qiime2-2020.8/lib/python3.6/site-packages/sklearn/metrics/pairwise.py:1761: DataConversionWarning: Data was converted to boolean for metric jaccard\n",
      "  warnings.warn(msg, DataConversionWarning)\n"
     ]
    },
    {
     "name": "stdout",
     "output_type": "stream",
     "text": [
      "Calculating diversity metrics for 3397\n"
     ]
    },
    {
     "name": "stderr",
     "output_type": "stream",
     "text": [
      "/Users/alchemist/anaconda3/envs/qiime2-2020.8/lib/python3.6/site-packages/sklearn/metrics/pairwise.py:1761: DataConversionWarning: Data was converted to boolean for metric jaccard\n",
      "  warnings.warn(msg, DataConversionWarning)\n",
      "/Users/alchemist/anaconda3/envs/qiime2-2020.8/lib/python3.6/site-packages/skbio/stats/ordination/_principal_coordinate_analysis.py:152: RuntimeWarning: The result contains negative eigenvalues. Please compare their magnitude with the magnitude of some of the largest positive eigenvalues. If the negative ones are smaller, it's probably safe to ignore them, but if they are large in magnitude, the results won't be useful. See the Notes section for more details. The smallest eigenvalue is -0.00450240378183084 and the largest is 2.619973921356427.\n",
      "  RuntimeWarning\n",
      "/Users/alchemist/anaconda3/envs/qiime2-2020.8/lib/python3.6/site-packages/skbio/stats/ordination/_principal_coordinate_analysis.py:152: RuntimeWarning: The result contains negative eigenvalues. Please compare their magnitude with the magnitude of some of the largest positive eigenvalues. If the negative ones are smaller, it's probably safe to ignore them, but if they are large in magnitude, the results won't be useful. See the Notes section for more details. The smallest eigenvalue is -0.0018680699449827524 and the largest is 2.169740886645954.\n",
      "  RuntimeWarning\n",
      "/Users/alchemist/anaconda3/envs/qiime2-2020.8/lib/python3.6/site-packages/sklearn/metrics/pairwise.py:1761: DataConversionWarning: Data was converted to boolean for metric jaccard\n",
      "  warnings.warn(msg, DataConversionWarning)\n"
     ]
    },
    {
     "name": "stdout",
     "output_type": "stream",
     "text": [
      "Calculating diversity metrics for 5897\n"
     ]
    },
    {
     "name": "stderr",
     "output_type": "stream",
     "text": [
      "/Users/alchemist/anaconda3/envs/qiime2-2020.8/lib/python3.6/site-packages/sklearn/metrics/pairwise.py:1761: DataConversionWarning: Data was converted to boolean for metric jaccard\n",
      "  warnings.warn(msg, DataConversionWarning)\n",
      "/Users/alchemist/anaconda3/envs/qiime2-2020.8/lib/python3.6/site-packages/skbio/stats/ordination/_principal_coordinate_analysis.py:152: RuntimeWarning: The result contains negative eigenvalues. Please compare their magnitude with the magnitude of some of the largest positive eigenvalues. If the negative ones are smaller, it's probably safe to ignore them, but if they are large in magnitude, the results won't be useful. See the Notes section for more details. The smallest eigenvalue is -0.0030909390868172314 and the largest is 2.120710335461436.\n",
      "  RuntimeWarning\n",
      "/Users/alchemist/anaconda3/envs/qiime2-2020.8/lib/python3.6/site-packages/skbio/stats/ordination/_principal_coordinate_analysis.py:152: RuntimeWarning: The result contains negative eigenvalues. Please compare their magnitude with the magnitude of some of the largest positive eigenvalues. If the negative ones are smaller, it's probably safe to ignore them, but if they are large in magnitude, the results won't be useful. See the Notes section for more details. The smallest eigenvalue is -0.0013269662777759196 and the largest is 1.5804289622824366.\n",
      "  RuntimeWarning\n",
      "/Users/alchemist/anaconda3/envs/qiime2-2020.8/lib/python3.6/site-packages/sklearn/metrics/pairwise.py:1761: DataConversionWarning: Data was converted to boolean for metric jaccard\n",
      "  warnings.warn(msg, DataConversionWarning)\n"
     ]
    },
    {
     "name": "stdout",
     "output_type": "stream",
     "text": [
      "Calculating diversity metrics for 8397\n"
     ]
    },
    {
     "name": "stderr",
     "output_type": "stream",
     "text": [
      "/Users/alchemist/anaconda3/envs/qiime2-2020.8/lib/python3.6/site-packages/sklearn/metrics/pairwise.py:1761: DataConversionWarning: Data was converted to boolean for metric jaccard\n",
      "  warnings.warn(msg, DataConversionWarning)\n",
      "/Users/alchemist/anaconda3/envs/qiime2-2020.8/lib/python3.6/site-packages/sklearn/metrics/pairwise.py:1761: DataConversionWarning: Data was converted to boolean for metric jaccard\n",
      "  warnings.warn(msg, DataConversionWarning)\n"
     ]
    },
    {
     "name": "stdout",
     "output_type": "stream",
     "text": [
      "Calculating diversity metrics for 3909\n"
     ]
    },
    {
     "name": "stderr",
     "output_type": "stream",
     "text": [
      "/Users/alchemist/anaconda3/envs/qiime2-2020.8/lib/python3.6/site-packages/sklearn/metrics/pairwise.py:1761: DataConversionWarning: Data was converted to boolean for metric jaccard\n",
      "  warnings.warn(msg, DataConversionWarning)\n",
      "/Users/alchemist/anaconda3/envs/qiime2-2020.8/lib/python3.6/site-packages/skbio/stats/ordination/_principal_coordinate_analysis.py:152: RuntimeWarning: The result contains negative eigenvalues. Please compare their magnitude with the magnitude of some of the largest positive eigenvalues. If the negative ones are smaller, it's probably safe to ignore them, but if they are large in magnitude, the results won't be useful. See the Notes section for more details. The smallest eigenvalue is -0.001319425759144815 and the largest is 1.7986538748823198.\n",
      "  RuntimeWarning\n",
      "/Users/alchemist/anaconda3/envs/qiime2-2020.8/lib/python3.6/site-packages/skbio/stats/ordination/_principal_coordinate_analysis.py:152: RuntimeWarning: The result contains negative eigenvalues. Please compare their magnitude with the magnitude of some of the largest positive eigenvalues. If the negative ones are smaller, it's probably safe to ignore them, but if they are large in magnitude, the results won't be useful. See the Notes section for more details. The smallest eigenvalue is -0.0022574811956153702 and the largest is 2.1806582624451147.\n",
      "  RuntimeWarning\n",
      "/Users/alchemist/anaconda3/envs/qiime2-2020.8/lib/python3.6/site-packages/sklearn/metrics/pairwise.py:1761: DataConversionWarning: Data was converted to boolean for metric jaccard\n",
      "  warnings.warn(msg, DataConversionWarning)\n"
     ]
    }
   ],
   "source": [
    "for sampling_depth in rarefy_list:\n",
    "    #\n",
    "    print('Calculating diversity metrics for '+str(sampling_depth))\n",
    "    #\n",
    "    Path(str(workdir)+'/diversity_analysis/sampling_depth_'+str(sampling_depth)).mkdir(parents=True, exist_ok=True)\n",
    "    #\n",
    "    core_metrics = diversity.pipelines.core_metrics_phylogenetic(table = table,\n",
    "                                                             phylogeny = phylogenic_tree_rooted_tree,\n",
    "                                                             sampling_depth = sampling_depth,\n",
    "                                                             metadata = sample_metadata,\n",
    "                                                             ) \n",
    "    #\n",
    "    table_rarefied = core_metrics.rarefied_table\n",
    "    non_phylo_metric_list = ['observed_features','shannon']\n",
    "    col_names =  ['observed_features', 'shannon', 'Faith']\n",
    "    temp_alpha  = pd.DataFrame(columns = col_names)\n",
    "    for met in non_phylo_metric_list:\n",
    "        alpha_metric = alpha(\n",
    "                       table      =       table_rarefied,\n",
    "                       metric     =       met\n",
    "                             )\n",
    "        Path(str(workdir)+'/diversity_analysis/sampling_depth_'+str(sampling_depth)+'/'+str(met)).mkdir(parents=True, exist_ok=True)\n",
    "        alpha_metric.alpha_diversity.export_data(str(workdir)+'/diversity_analysis/sampling_depth_'+str(sampling_depth)+'/'+str(met))\n",
    "        alpha_data      = pd.read_csv(str(workdir)+'/diversity_analysis/sampling_depth_'+str(sampling_depth)+'/'+str(met)+'/alpha-diversity.tsv',sep='\\t',index_col=[0])\n",
    "        temp_alpha[met] = alpha_data.iloc[:,0]\n",
    "    core_metrics.faith_pd_vector.export_data(str(workdir)+'/diversity_analysis/sampling_depth_'+str(sampling_depth)+'/faith_pd')\n",
    "    faith_data = pd.read_csv(str(workdir)+'/diversity_analysis/sampling_depth_'+str(sampling_depth)+'/faith_pd/alpha-diversity.tsv',sep='\\t',index_col=[0])\n",
    "    temp_alpha['Faith'] = faith_data.iloc[:,0]\n",
    "    temp_alpha.to_csv(str(workdir)+'/diversity_analysis/sampling_depth_'+str(sampling_depth)+'/alpha_diversity.csv')\n",
    "    #\n",
    "    table_rarefied = core_metrics.rarefied_table\n",
    "    beta_metric_list = ['braycurtis','jaccard']\n",
    "    for met in beta_metric_list:\n",
    "        beta_metric = beta(\n",
    "                       table      =       table_rarefied,\n",
    "                       metric     =       met\n",
    "                             )\n",
    "        Path(str(workdir)+'/diversity_analysis/sampling_depth_'+str(sampling_depth)+'/'+str(met)).mkdir(parents=True, exist_ok=True)\n",
    "        beta_metric.distance_matrix.export_data(str(workdir)+'/diversity_analysis/sampling_depth_'+str(sampling_depth)+'/'+str(met))\n",
    "\n",
    "    beta_metric_list = ['unweighted_unifrac','weighted_unifrac']\n",
    "    for met in beta_metric_list:\n",
    "        beta_metric = beta_phylogenetic(\n",
    "                       table      =       table_rarefied,\n",
    "                       metric     =       met,\n",
    "                       phylogeny  = phylogenic_tree_rooted_tree\n",
    "                             )\n",
    "        Path(str(workdir)+'/diversity_analysis/sampling_depth_'+str(sampling_depth)+'/'+str(met)).mkdir(parents=True, exist_ok=True)\n",
    "        beta_metric.distance_matrix.export_data(str(workdir)+'/diversity_analysis/sampling_depth_'+str(sampling_depth)+'/'+str(met))"
   ]
  },
  {
   "cell_type": "markdown",
   "metadata": {},
   "source": [
    "List of alpha metrics: 'dominance', 'simpson_e', 'heip_e', 'mcintosh_e',\n",
    "    'simpson', 'singles', 'doubles', 'margalef', 'chao1_ci', 'robbins',\n",
    "    'gini_index', 'shannon', 'brillouin_d', 'fisher_alpha', 'chao1',\n",
    "    'mcintosh_d', 'lladser_pe', 'observed_features', 'enspie',\n",
    "    'kempton_taylor_q', 'ace', 'michaelis_menten_fit', 'esty_ci', 'pielou_e',\n",
    "    'osd', 'berger_parker_d', 'menhinick', 'goods_coverage', 'strong' \\\n",
    "List of beta metric: 'rogerstanimoto', 'kulsinski', 'sokalmichener',\n",
    "    'dice', 'braycurtis', 'matching', 'canberra_adkins', 'jensenshannon',\n",
    "    'sqeuclidean', 'hamming', 'sokalsneath', 'canberra', 'chebyshev',\n",
    "    'seuclidean', 'aitchison', 'yule', 'cosine', 'correlation', 'minkowski',\n",
    "    'euclidean', 'russellrao', 'jaccard', 'cityblock'"
   ]
  },
  {
   "cell_type": "code",
   "execution_count": 39,
   "metadata": {},
   "outputs": [
    {
     "data": {
      "text/html": [
       "<div>\n",
       "<style scoped>\n",
       "    .dataframe tbody tr th:only-of-type {\n",
       "        vertical-align: middle;\n",
       "    }\n",
       "\n",
       "    .dataframe tbody tr th {\n",
       "        vertical-align: top;\n",
       "    }\n",
       "\n",
       "    .dataframe thead th {\n",
       "        text-align: right;\n",
       "    }\n",
       "</style>\n",
       "<table border=\"1\" class=\"dataframe\">\n",
       "  <thead>\n",
       "    <tr style=\"text-align: right;\">\n",
       "      <th></th>\n",
       "      <th>shannon_entropy</th>\n",
       "    </tr>\n",
       "  </thead>\n",
       "  <tbody>\n",
       "    <tr>\n",
       "      <th>L1S105</th>\n",
       "      <td>4.004631</td>\n",
       "    </tr>\n",
       "    <tr>\n",
       "      <th>L1S140</th>\n",
       "      <td>3.726095</td>\n",
       "    </tr>\n",
       "    <tr>\n",
       "      <th>L1S208</th>\n",
       "      <td>4.370518</td>\n",
       "    </tr>\n",
       "    <tr>\n",
       "      <th>L1S257</th>\n",
       "      <td>4.740285</td>\n",
       "    </tr>\n",
       "    <tr>\n",
       "      <th>L1S281</th>\n",
       "      <td>4.583463</td>\n",
       "    </tr>\n",
       "    <tr>\n",
       "      <th>L1S57</th>\n",
       "      <td>4.126907</td>\n",
       "    </tr>\n",
       "    <tr>\n",
       "      <th>L1S76</th>\n",
       "      <td>3.560113</td>\n",
       "    </tr>\n",
       "    <tr>\n",
       "      <th>L1S8</th>\n",
       "      <td>3.079887</td>\n",
       "    </tr>\n",
       "    <tr>\n",
       "      <th>L2S155</th>\n",
       "      <td>5.069048</td>\n",
       "    </tr>\n",
       "    <tr>\n",
       "      <th>L2S175</th>\n",
       "      <td>4.840492</td>\n",
       "    </tr>\n",
       "    <tr>\n",
       "      <th>L2S204</th>\n",
       "      <td>4.410149</td>\n",
       "    </tr>\n",
       "    <tr>\n",
       "      <th>L2S222</th>\n",
       "      <td>6.354954</td>\n",
       "    </tr>\n",
       "    <tr>\n",
       "      <th>L2S240</th>\n",
       "      <td>3.796994</td>\n",
       "    </tr>\n",
       "    <tr>\n",
       "      <th>L2S309</th>\n",
       "      <td>4.568008</td>\n",
       "    </tr>\n",
       "    <tr>\n",
       "      <th>L2S357</th>\n",
       "      <td>4.439772</td>\n",
       "    </tr>\n",
       "    <tr>\n",
       "      <th>L2S382</th>\n",
       "      <td>5.859370</td>\n",
       "    </tr>\n",
       "    <tr>\n",
       "      <th>L3S242</th>\n",
       "      <td>2.875264</td>\n",
       "    </tr>\n",
       "    <tr>\n",
       "      <th>L3S294</th>\n",
       "      <td>4.318832</td>\n",
       "    </tr>\n",
       "    <tr>\n",
       "      <th>L3S313</th>\n",
       "      <td>4.446409</td>\n",
       "    </tr>\n",
       "    <tr>\n",
       "      <th>L3S341</th>\n",
       "      <td>4.374717</td>\n",
       "    </tr>\n",
       "    <tr>\n",
       "      <th>L3S360</th>\n",
       "      <td>5.218470</td>\n",
       "    </tr>\n",
       "    <tr>\n",
       "      <th>L3S378</th>\n",
       "      <td>3.606756</td>\n",
       "    </tr>\n",
       "    <tr>\n",
       "      <th>L4S112</th>\n",
       "      <td>5.019651</td>\n",
       "    </tr>\n",
       "    <tr>\n",
       "      <th>L4S137</th>\n",
       "      <td>5.289920</td>\n",
       "    </tr>\n",
       "    <tr>\n",
       "      <th>L4S63</th>\n",
       "      <td>5.992793</td>\n",
       "    </tr>\n",
       "    <tr>\n",
       "      <th>L5S104</th>\n",
       "      <td>3.607041</td>\n",
       "    </tr>\n",
       "    <tr>\n",
       "      <th>L5S155</th>\n",
       "      <td>3.081274</td>\n",
       "    </tr>\n",
       "    <tr>\n",
       "      <th>L5S174</th>\n",
       "      <td>3.278424</td>\n",
       "    </tr>\n",
       "    <tr>\n",
       "      <th>L5S203</th>\n",
       "      <td>3.700270</td>\n",
       "    </tr>\n",
       "    <tr>\n",
       "      <th>L5S222</th>\n",
       "      <td>3.374069</td>\n",
       "    </tr>\n",
       "    <tr>\n",
       "      <th>L5S240</th>\n",
       "      <td>3.360759</td>\n",
       "    </tr>\n",
       "    <tr>\n",
       "      <th>L6S20</th>\n",
       "      <td>3.039470</td>\n",
       "    </tr>\n",
       "    <tr>\n",
       "      <th>L6S68</th>\n",
       "      <td>3.427174</td>\n",
       "    </tr>\n",
       "    <tr>\n",
       "      <th>L6S93</th>\n",
       "      <td>4.170132</td>\n",
       "    </tr>\n",
       "  </tbody>\n",
       "</table>\n",
       "</div>"
      ],
      "text/plain": [
       "        shannon_entropy\n",
       "L1S105         4.004631\n",
       "L1S140         3.726095\n",
       "L1S208         4.370518\n",
       "L1S257         4.740285\n",
       "L1S281         4.583463\n",
       "L1S57          4.126907\n",
       "L1S76          3.560113\n",
       "L1S8           3.079887\n",
       "L2S155         5.069048\n",
       "L2S175         4.840492\n",
       "L2S204         4.410149\n",
       "L2S222         6.354954\n",
       "L2S240         3.796994\n",
       "L2S309         4.568008\n",
       "L2S357         4.439772\n",
       "L2S382         5.859370\n",
       "L3S242         2.875264\n",
       "L3S294         4.318832\n",
       "L3S313         4.446409\n",
       "L3S341         4.374717\n",
       "L3S360         5.218470\n",
       "L3S378         3.606756\n",
       "L4S112         5.019651\n",
       "L4S137         5.289920\n",
       "L4S63          5.992793\n",
       "L5S104         3.607041\n",
       "L5S155         3.081274\n",
       "L5S174         3.278424\n",
       "L5S203         3.700270\n",
       "L5S222         3.374069\n",
       "L5S240         3.360759\n",
       "L6S20          3.039470\n",
       "L6S68          3.427174\n",
       "L6S93          4.170132"
      ]
     },
     "execution_count": 39,
     "metadata": {},
     "output_type": "execute_result"
    }
   ],
   "source": [
    "alpha_data = pd.read_csv(str(workdir)+'/diversity_analysis/sampling_depth_'+str(sampling_depth)+'/shannon/alpha-diversity.tsv',sep='\\t',index_col=[0])\n",
    "alpha_data"
   ]
  },
  {
   "cell_type": "code",
   "execution_count": 25,
   "metadata": {},
   "outputs": [],
   "source": [
    "temp_alpha = []\n",
    "alpha_data      = pd.read_csv(str(workdir)+'/diversity_analysis/sampling_depth_'+str(sampling_depth)+'/'+str(met)+'/alpha-diversity.tsv',sep='\\t',index_col=[0])\n",
    "temp_alpha      = temp_alpha.append(alpha_data.iloc[:,0])"
   ]
  },
  {
   "cell_type": "code",
   "execution_count": 29,
   "metadata": {},
   "outputs": [
    {
     "data": {
      "text/plain": [
       "[]"
      ]
     },
     "execution_count": 29,
     "metadata": {},
     "output_type": "execute_result"
    }
   ],
   "source": [
    "temp_alpha = []\n",
    "temp_alpha"
   ]
  },
  {
   "cell_type": "code",
   "execution_count": 31,
   "metadata": {},
   "outputs": [
    {
     "data": {
      "text/plain": [
       "array([3.8323405 , 3.6729354 , 4.47112102, 4.63101647, 4.66813325,\n",
       "       4.1255213 , 3.39258684, 3.25388338, 4.99657172, 4.99982091,\n",
       "       4.35764257, 6.37486462, 3.894814  , 4.57782302, 4.46736162,\n",
       "       5.85031561, 2.87526385, 4.32133295, 4.46220149, 4.32602691,\n",
       "       5.23392584, 3.57582856, 5.26456478, 5.37278694, 6.03270422,\n",
       "       3.62329039, 3.13180923, 3.26744106, 3.72270281, 3.3075086 ,\n",
       "       3.33305559, 3.09603217, 3.36584527, 4.15277199])"
      ]
     },
     "execution_count": 31,
     "metadata": {},
     "output_type": "execute_result"
    }
   ],
   "source": [
    "alpha_data.iloc[:,0].values"
   ]
  },
  {
   "cell_type": "code",
   "execution_count": null,
   "metadata": {},
   "outputs": [],
   "source": []
  }
 ],
 "metadata": {
  "kernelspec": {
   "display_name": "Python 3",
   "language": "python",
   "name": "python3"
  },
  "language_info": {
   "codemirror_mode": {
    "name": "ipython",
    "version": 3
   },
   "file_extension": ".py",
   "mimetype": "text/x-python",
   "name": "python",
   "nbconvert_exporter": "python",
   "pygments_lexer": "ipython3",
   "version": "3.6.11"
  }
 },
 "nbformat": 4,
 "nbformat_minor": 4
}
