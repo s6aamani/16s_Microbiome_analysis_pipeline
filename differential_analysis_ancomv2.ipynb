{
 "cells": [
  {
   "cell_type": "code",
   "execution_count": 1,
   "metadata": {},
   "outputs": [
    {
     "ename": "ERROR",
     "evalue": "Error in library(readr): there is no package called 'readr'\n",
     "output_type": "error",
     "traceback": [
      "Error in library(readr): there is no package called 'readr'\nTraceback:\n",
      "1. library(readr)"
     ]
    }
   ],
   "source": [
    "library(readr)\n",
    "library(tidyverse)\n",
    "library(\"qiime2R\")\n",
    "library(\"phyloseq\")\n",
    "library(\"microbiome\")"
   ]
  },
  {
   "cell_type": "code",
   "execution_count": null,
   "metadata": {},
   "outputs": [],
   "source": [
    "setwd('/Users/alchemist/Aakash/BonnGut/Microbiome_pipeline')\n",
    "workdir = getwd()"
   ]
  },
  {
   "cell_type": "code",
   "execution_count": null,
   "metadata": {},
   "outputs": [],
   "source": [
    "#\n",
    "pseq<-qza_to_phyloseq(\n",
    "    features=paste(workdir,\"/feature_table/table.qza\",sep=\"\"),\n",
    "    tree=paste(workdir,\"/phylo_tree/rooted_tree.qza\",sep=\"\"),\n",
    "         paste(workdir,\"/taxonomy/tax_ezbiocloud.qza\",sep=\"\"),\n",
    "    paste(workdir,\"/metadata/metadata.tsv\",sep=\"\")\n",
    "    )\n",
    "#\n",
    "feature_table = otu_data; \n",
    "sample_var    = \"Sample.ID\"; \n",
    "group_var     = \"\" ; \n",
    "main_var      = \"\" ; \n",
    "rand_formula  = \"\" ; \n",
    "adj_formula   = \"\"\n",
    "#\n",
    "out_cut       = 0.05; \n",
    "zero_cut      = 0.90; \n",
    "lib_cut       = 0; \n",
    "neg_lb        = TRUE; \n",
    "alpha         = 0.05 #sigificance threshold"
   ]
  },
  {
   "cell_type": "code",
   "execution_count": null,
   "metadata": {},
   "outputs": [],
   "source": [
    "############################################ Differential Analysis at Phylum Level ###########################\n",
    "#\n",
    "otu_data = aggregate_taxa(pseq, \"Phylum\")\n",
    "otu_data = otu_table(otu_data) #otu_table(ps)\n",
    "# Step 1: Data preprocessing\n",
    "source(\"/Users/alchemist/Aakash/BonnGut/gut_brain_project/scripts/ancom_v2_scripts/ancom_v2.1.R\")\n",
    "prepro = feature_table_pre_process(feature_table, meta_data, sample_var, group_var, \n",
    "                                   out_cut, zero_cut, lib_cut, neg_lb)\n",
    "feature_table = prepro$feature_table # Preprocessed feature table\n",
    "meta_data = prepro$meta_data # Preprocessed metadata\n",
    "struc_zero = prepro$structure_zeros # Structural zero info\n",
    "\n",
    "# # Step 2: ANCOM\n",
    "t_start = Sys.time()\n",
    "res_phylum = ANCOM(feature_table, meta_data, struc_zero, main_var, p_adj_method, \n",
    "            alpha, adj_formula, rand_formula)\n",
    "t_end = Sys.time()\n",
    "t_run = t_end - t_start\n",
    "\n",
    "# Step 3: Volcano Plot\n",
    "\n",
    "# Number of taxa except structural zeros\n",
    "n_taxa = ifelse(is.null(struc_zero), nrow(feature_table), sum(apply(struc_zero, 1, sum) == 0))\n",
    "# Cutoff values for declaring differentially abundant taxa\n",
    "cut_off = c(0.9 * (n_taxa -1), 0.8 * (n_taxa -1), 0.7 * (n_taxa -1), 0.6 * (n_taxa -1))\n",
    "names(cut_off) = c(\"detected_0.9\", \"detected_0.8\", \"detected_0.7\", \"detected_0.6\")\n",
    "\n",
    "# Annotation data\n",
    "dat_ann = data.frame(x = min(res$fig$data$x), y = cut_off[\"detected_0.7\"], label = \"W[0.7]\")\n",
    "\n",
    "fig = res_phylum$fig +  \n",
    "  geom_hline(yintercept = cut_off[\"detected_0.7\"], linetype = \"dashed\") + \n",
    "  geom_text(data = dat_ann, aes(x = x, y = y, label = label), \n",
    "            size = 4, vjust = -0.5, hjust = 0, color = \"orange\", parse = TRUE)\n",
    "fig  "
   ]
  },
  {
   "cell_type": "code",
   "execution_count": null,
   "metadata": {},
   "outputs": [],
   "source": [
    "############################################ Differential Analysis at Genus Level ###########################\n",
    "pseq.genus = tax_glom(pseq, taxrank=\"Genus\") \n",
    "otu_data <- core(pseq.genus, detection = 0.0001, prevalence = .5) #default filtering\n",
    "#\n",
    "otu_data = otu_table(otu_data) #otu_table(ps)\n",
    "# Step 1: Data preprocessing\n",
    "source(\"/Users/alchemist/Aakash/BonnGut/gut_brain_project/scripts/ancom_v2_scripts/ancom_v2.1.R\")\n",
    "prepro = feature_table_pre_process(feature_table, meta_data, sample_var, group_var, \n",
    "                                   out_cut, zero_cut, lib_cut, neg_lb)\n",
    "feature_table = prepro$feature_table # Preprocessed feature table\n",
    "meta_data = prepro$meta_data # Preprocessed metadata\n",
    "struc_zero = prepro$structure_zeros # Structural zero info\n",
    "\n",
    "# # Step 2: ANCOM\n",
    "t_start = Sys.time()\n",
    "res_genus = ANCOM(feature_table, meta_data, struc_zero, main_var, p_adj_method, \n",
    "            alpha, adj_formula, rand_formula)\n",
    "t_end = Sys.time()\n",
    "t_run = t_end - t_start\n",
    "\n",
    "# Step 3: Volcano Plot\n",
    "\n",
    "# Number of taxa except structural zeros\n",
    "n_taxa = ifelse(is.null(struc_zero), nrow(feature_table), sum(apply(struc_zero, 1, sum) == 0))\n",
    "# Cutoff values for declaring differentially abundant taxa\n",
    "cut_off = c(0.9 * (n_taxa -1), 0.8 * (n_taxa -1), 0.7 * (n_taxa -1), 0.6 * (n_taxa -1))\n",
    "names(cut_off) = c(\"detected_0.9\", \"detected_0.8\", \"detected_0.7\", \"detected_0.6\")\n",
    "\n",
    "# Annotation data\n",
    "dat_ann = data.frame(x = min(res$fig$data$x), y = cut_off[\"detected_0.7\"], label = \"W[0.7]\")\n",
    "\n",
    "fig = res_genus$fig +  \n",
    "  geom_hline(yintercept = cut_off[\"detected_0.7\"], linetype = \"dashed\") + \n",
    "  geom_text(data = dat_ann, aes(x = x, y = y, label = label), \n",
    "            size = 4, vjust = -0.5, hjust = 0, color = \"orange\", parse = TRUE)\n",
    "fig  "
   ]
  },
  {
   "cell_type": "code",
   "execution_count": null,
   "metadata": {},
   "outputs": [],
   "source": []
  }
 ],
 "metadata": {
  "kernelspec": {
   "display_name": "R",
   "language": "R",
   "name": "ir"
  },
  "language_info": {
   "codemirror_mode": "r",
   "file_extension": ".r",
   "mimetype": "text/x-r-source",
   "name": "R",
   "pygments_lexer": "r",
   "version": "4.0.5"
  }
 },
 "nbformat": 4,
 "nbformat_minor": 4
}
