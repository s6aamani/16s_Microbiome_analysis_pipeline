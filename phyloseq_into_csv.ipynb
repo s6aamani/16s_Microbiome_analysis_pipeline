{
 "cells": [
  {
   "cell_type": "code",
   "execution_count": 5,
   "metadata": {},
   "outputs": [],
   "source": [
    "library(phyloseq)\n",
    "library(\"qiime2R\")\n",
    "library(\"microbiome\")"
   ]
  },
  {
   "cell_type": "code",
   "execution_count": 6,
   "metadata": {},
   "outputs": [],
   "source": [
    "setwd('/Users/alchemist/Aakash/BonnGut/Microbiome_pipeline')\n",
    "workdir = getwd()"
   ]
  },
  {
   "cell_type": "code",
   "execution_count": 8,
   "metadata": {},
   "outputs": [],
   "source": [
    "#\n",
    "pseq<-qza_to_phyloseq(\n",
    "    features=paste(workdir,\"/feature_table/table.qza\",sep=\"\"),\n",
    "    tree=paste(workdir,\"/phylo_tree/rooted_tree.qza\",sep=\"\"),\n",
    "         paste(workdir,\"/taxonomy/tax_ezbiocloud.qza\",sep=\"\"),\n",
    "    paste(workdir,\"/metadata/metadata.tsv\",sep=\"\")\n",
    "    )"
   ]
  },
  {
   "cell_type": "code",
   "execution_count": 10,
   "metadata": {},
   "outputs": [],
   "source": [
    "save(pseq,file=paste(workdir,\"/phyloseq_stuff/phyloseq.qza\",sep=\"\"))"
   ]
  },
  {
   "cell_type": "code",
   "execution_count": 11,
   "metadata": {},
   "outputs": [],
   "source": [
    "write.csv(otu_table(pseq), paste(workdir,\"/phyloseq_stuff/count.csv\",sep=\"\"))\n",
    "write.csv(tax_table(pseq), paste(workdir,\"/phyloseq_stuff/tax.csv\",sep=\"\"))\n",
    "write.csv(sample_data(pseq), paste(workdir,\"/phyloseq_stuff/sample.csv\",sep=\"\"))"
   ]
  }
 ],
 "metadata": {
  "kernelspec": {
   "display_name": "R",
   "language": "R",
   "name": "ir"
  },
  "language_info": {
   "codemirror_mode": "r",
   "file_extension": ".r",
   "mimetype": "text/x-r-source",
   "name": "R",
   "pygments_lexer": "r",
   "version": "4.0.5"
  }
 },
 "nbformat": 4,
 "nbformat_minor": 4
}
